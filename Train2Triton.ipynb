{
  "nbformat": 4,
  "nbformat_minor": 0,
  "metadata": {
    "colab": {
      "provenance": []
    },
    "kernelspec": {
      "name": "python3",
      "display_name": "Python 3"
    },
    "language_info": {
      "name": "python"
    }
  },
  "cells": [
    {
      "cell_type": "code",
      "execution_count": null,
      "metadata": {
        "id": "lPCHupdk4e_M"
      },
      "outputs": [],
      "source": [
        "# Import thư viện\n",
        "import numpy as np\n",
        "import tritonclient.http as httpclient\n",
        "from torchvision import transforms\n",
        "from PIL import Image"
      ]
    },
    {
      "cell_type": "code",
      "source": [
        "# Đường dẫn ảnh\n",
        "image_path = \"10.jpg\""
      ],
      "metadata": {
        "id": "a76qplGt4vjb"
      },
      "execution_count": null,
      "outputs": []
    },
    {
      "cell_type": "code",
      "source": [
        "# Tiền xử lý ảnh\n",
        "preprocess = transforms.Compose([\n",
        "    transforms.Resize((224, 224)),\n",
        "    transforms.ToTensor(),\n",
        "    transforms.Normalize([0.485, 0.456, 0.406], [0.229, 0.224, 0.225])\n",
        "])"
      ],
      "metadata": {
        "id": "_0La2lCj45Mq"
      },
      "execution_count": null,
      "outputs": []
    },
    {
      "cell_type": "code",
      "source": [
        "# Đọc và xử lý ảnh\n",
        "img = Image.open(image_path).convert(\"RGB\")\n",
        "processed_img = preprocess(img).unsqueeze(0).numpy()\n",
        "\n",
        "# Tạo input cho Triton\n",
        "input_data = httpclient.InferInput(\"data_0\", processed_img.shape, \"FP32\")\n",
        "input_data.set_data_from_numpy(processed_img, binary_data=True)"
      ],
      "metadata": {
        "id": "prS2vgCB47C1"
      },
      "execution_count": null,
      "outputs": []
    },
    {
      "cell_type": "code",
      "source": [
        "# Yêu cầu output\n",
        "output_data = httpclient.InferRequestedOutput(\"fc6_1\", binary_data=True, class_count=1000)\n",
        "\n",
        "# Kết nối và gửi truy vấn đến Triton\n",
        "triton_client = httpclient.InferenceServerClient(\"localhost:8000\")\n",
        "response = triton_client.infer(model_name=\"densenet_onnx\", inputs=[input_data], outputs=[output_data])"
      ],
      "metadata": {
        "id": "sgmI4cXW49af"
      },
      "execution_count": null,
      "outputs": []
    },
    {
      "cell_type": "code",
      "source": [
        "# Lấy kết quả và in ra 5 giá trị đầu tiên\n",
        "output_result = response.as_numpy(\"fc6_1\").astype(str)\n",
        "print(np.squeeze(output_result)[:5])"
      ],
      "metadata": {
        "id": "1JT8EA3T4_3s"
      },
      "execution_count": null,
      "outputs": []
    }
  ]
}